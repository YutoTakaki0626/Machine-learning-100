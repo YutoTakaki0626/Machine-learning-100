{
 "cells": [
  {
   "cell_type": "markdown",
   "metadata": {},
   "source": [
    "# 11.データを読み込んで不要なものを除去しよう"
   ]
  },
  {
   "cell_type": "code",
   "execution_count": 1,
   "metadata": {},
   "outputs": [
    {
     "name": "stdout",
     "output_type": "stream",
     "text": [
      "703880\n"
     ]
    },
    {
     "data": {
      "text/html": [
       "<div>\n",
       "<style scoped>\n",
       "    .dataframe tbody tr th:only-of-type {\n",
       "        vertical-align: middle;\n",
       "    }\n",
       "\n",
       "    .dataframe tbody tr th {\n",
       "        vertical-align: top;\n",
       "    }\n",
       "\n",
       "    .dataframe thead th {\n",
       "        text-align: right;\n",
       "    }\n",
       "</style>\n",
       "<table border=\"1\" class=\"dataframe\">\n",
       "  <thead>\n",
       "    <tr style=\"text-align: right;\">\n",
       "      <th></th>\n",
       "      <th>order_id</th>\n",
       "      <th>store_id</th>\n",
       "      <th>customer_id</th>\n",
       "      <th>coupon_cd</th>\n",
       "      <th>sales_detail_id</th>\n",
       "      <th>order_accept_date</th>\n",
       "      <th>delivered_date</th>\n",
       "      <th>takeout_flag</th>\n",
       "      <th>total_amount</th>\n",
       "      <th>status</th>\n",
       "      <th>store_name</th>\n",
       "      <th>area_cd</th>\n",
       "      <th>wide_area</th>\n",
       "      <th>narrow_area</th>\n",
       "      <th>takeout_name</th>\n",
       "      <th>status_name</th>\n",
       "    </tr>\n",
       "  </thead>\n",
       "  <tbody>\n",
       "    <tr>\n",
       "      <th>0</th>\n",
       "      <td>16514392</td>\n",
       "      <td>64</td>\n",
       "      <td>C44271355</td>\n",
       "      <td>49</td>\n",
       "      <td>56527968</td>\n",
       "      <td>2020-06-01 11:00:00</td>\n",
       "      <td>2020-06-01 11:55:00</td>\n",
       "      <td>0</td>\n",
       "      <td>2732</td>\n",
       "      <td>2</td>\n",
       "      <td>西東京店</td>\n",
       "      <td>TK</td>\n",
       "      <td>東京</td>\n",
       "      <td>東京</td>\n",
       "      <td>デリバリー</td>\n",
       "      <td>お渡し済み</td>\n",
       "    </tr>\n",
       "    <tr>\n",
       "      <th>1</th>\n",
       "      <td>28342394</td>\n",
       "      <td>12</td>\n",
       "      <td>C98307866</td>\n",
       "      <td>98</td>\n",
       "      <td>46924304</td>\n",
       "      <td>2020-06-01 11:00:00</td>\n",
       "      <td>2020-06-01 11:52:00</td>\n",
       "      <td>0</td>\n",
       "      <td>2064</td>\n",
       "      <td>2</td>\n",
       "      <td>西葛西店</td>\n",
       "      <td>TK</td>\n",
       "      <td>東京</td>\n",
       "      <td>東京</td>\n",
       "      <td>デリバリー</td>\n",
       "      <td>お渡し済み</td>\n",
       "    </tr>\n",
       "    <tr>\n",
       "      <th>2</th>\n",
       "      <td>29799587</td>\n",
       "      <td>174</td>\n",
       "      <td>C59484037</td>\n",
       "      <td>45</td>\n",
       "      <td>47054474</td>\n",
       "      <td>2020-06-01 11:00:00</td>\n",
       "      <td>2020-06-01 11:25:00</td>\n",
       "      <td>0</td>\n",
       "      <td>3900</td>\n",
       "      <td>2</td>\n",
       "      <td>新座店</td>\n",
       "      <td>SA</td>\n",
       "      <td>埼玉</td>\n",
       "      <td>埼玉</td>\n",
       "      <td>デリバリー</td>\n",
       "      <td>お渡し済み</td>\n",
       "    </tr>\n",
       "    <tr>\n",
       "      <th>3</th>\n",
       "      <td>96960753</td>\n",
       "      <td>23</td>\n",
       "      <td>C57278332</td>\n",
       "      <td>70</td>\n",
       "      <td>60848267</td>\n",
       "      <td>2020-06-01 11:00:00</td>\n",
       "      <td>2020-06-01 11:45:00</td>\n",
       "      <td>0</td>\n",
       "      <td>2750</td>\n",
       "      <td>2</td>\n",
       "      <td>江東店</td>\n",
       "      <td>TK</td>\n",
       "      <td>東京</td>\n",
       "      <td>東京</td>\n",
       "      <td>デリバリー</td>\n",
       "      <td>お渡し済み</td>\n",
       "    </tr>\n",
       "    <tr>\n",
       "      <th>4</th>\n",
       "      <td>52147209</td>\n",
       "      <td>7</td>\n",
       "      <td>C36890849</td>\n",
       "      <td>80</td>\n",
       "      <td>20633593</td>\n",
       "      <td>2020-06-01 11:00:00</td>\n",
       "      <td>2020-06-01 11:23:00</td>\n",
       "      <td>0</td>\n",
       "      <td>2328</td>\n",
       "      <td>2</td>\n",
       "      <td>東尾久店</td>\n",
       "      <td>TK</td>\n",
       "      <td>東京</td>\n",
       "      <td>東京</td>\n",
       "      <td>デリバリー</td>\n",
       "      <td>お渡し済み</td>\n",
       "    </tr>\n",
       "  </tbody>\n",
       "</table>\n",
       "</div>"
      ],
      "text/plain": [
       "   order_id  store_id customer_id  coupon_cd  sales_detail_id  \\\n",
       "0  16514392        64   C44271355         49         56527968   \n",
       "1  28342394        12   C98307866         98         46924304   \n",
       "2  29799587       174   C59484037         45         47054474   \n",
       "3  96960753        23   C57278332         70         60848267   \n",
       "4  52147209         7   C36890849         80         20633593   \n",
       "\n",
       "     order_accept_date       delivered_date  takeout_flag  total_amount  \\\n",
       "0  2020-06-01 11:00:00  2020-06-01 11:55:00             0          2732   \n",
       "1  2020-06-01 11:00:00  2020-06-01 11:52:00             0          2064   \n",
       "2  2020-06-01 11:00:00  2020-06-01 11:25:00             0          3900   \n",
       "3  2020-06-01 11:00:00  2020-06-01 11:45:00             0          2750   \n",
       "4  2020-06-01 11:00:00  2020-06-01 11:23:00             0          2328   \n",
       "\n",
       "   status store_name area_cd wide_area narrow_area takeout_name status_name  \n",
       "0       2       西東京店      TK        東京          東京        デリバリー       お渡し済み  \n",
       "1       2       西葛西店      TK        東京          東京        デリバリー       お渡し済み  \n",
       "2       2        新座店      SA        埼玉          埼玉        デリバリー       お渡し済み  \n",
       "3       2        江東店      TK        東京          東京        デリバリー       お渡し済み  \n",
       "4       2       東尾久店      TK        東京          東京        デリバリー       お渡し済み  "
      ]
     },
     "execution_count": 1,
     "metadata": {},
     "output_type": "execute_result"
    }
   ],
   "source": [
    "import pandas as pd\n",
    "order_data = pd.read_csv('order_data.csv')\n",
    "print(len(order_data))\n",
    "order_data.head()"
   ]
  },
  {
   "cell_type": "code",
   "execution_count": 2,
   "metadata": {},
   "outputs": [
    {
     "name": "stdout",
     "output_type": "stream",
     "text": [
      "574436\n"
     ]
    },
    {
     "data": {
      "text/plain": [
       "Index(['order_id', 'store_id', 'customer_id', 'coupon_cd', 'sales_detail_id',\n",
       "       'order_accept_date', 'delivered_date', 'takeout_flag', 'total_amount',\n",
       "       'status', 'store_name', 'area_cd', 'wide_area', 'narrow_area',\n",
       "       'takeout_name', 'status_name'],\n",
       "      dtype='object')"
      ]
     },
     "execution_count": 2,
     "metadata": {},
     "output_type": "execute_result"
    }
   ],
   "source": [
    "order_data = order_data.loc[(order_data['status'] == 1)|(order_data['status'] == 2)]\n",
    "print(len(order_data))\n",
    "order_data.columns"
   ]
  },
  {
   "cell_type": "code",
   "execution_count": 3,
   "metadata": {},
   "outputs": [
    {
     "name": "stdout",
     "output_type": "stream",
     "text": [
      "(574436, 11)\n"
     ]
    },
    {
     "data": {
      "text/html": [
       "<div>\n",
       "<style scoped>\n",
       "    .dataframe tbody tr th:only-of-type {\n",
       "        vertical-align: middle;\n",
       "    }\n",
       "\n",
       "    .dataframe tbody tr th {\n",
       "        vertical-align: top;\n",
       "    }\n",
       "\n",
       "    .dataframe thead th {\n",
       "        text-align: right;\n",
       "    }\n",
       "</style>\n",
       "<table border=\"1\" class=\"dataframe\">\n",
       "  <thead>\n",
       "    <tr style=\"text-align: right;\">\n",
       "      <th></th>\n",
       "      <th>store_id</th>\n",
       "      <th>customer_id</th>\n",
       "      <th>coupon_cd</th>\n",
       "      <th>order_accept_date</th>\n",
       "      <th>delivered_date</th>\n",
       "      <th>total_amount</th>\n",
       "      <th>store_name</th>\n",
       "      <th>wide_area</th>\n",
       "      <th>narrow_area</th>\n",
       "      <th>takeout_name</th>\n",
       "      <th>status_name</th>\n",
       "    </tr>\n",
       "  </thead>\n",
       "  <tbody>\n",
       "    <tr>\n",
       "      <th>0</th>\n",
       "      <td>64</td>\n",
       "      <td>C44271355</td>\n",
       "      <td>49</td>\n",
       "      <td>2020-06-01 11:00:00</td>\n",
       "      <td>2020-06-01 11:55:00</td>\n",
       "      <td>2732</td>\n",
       "      <td>西東京店</td>\n",
       "      <td>東京</td>\n",
       "      <td>東京</td>\n",
       "      <td>デリバリー</td>\n",
       "      <td>お渡し済み</td>\n",
       "    </tr>\n",
       "    <tr>\n",
       "      <th>1</th>\n",
       "      <td>12</td>\n",
       "      <td>C98307866</td>\n",
       "      <td>98</td>\n",
       "      <td>2020-06-01 11:00:00</td>\n",
       "      <td>2020-06-01 11:52:00</td>\n",
       "      <td>2064</td>\n",
       "      <td>西葛西店</td>\n",
       "      <td>東京</td>\n",
       "      <td>東京</td>\n",
       "      <td>デリバリー</td>\n",
       "      <td>お渡し済み</td>\n",
       "    </tr>\n",
       "    <tr>\n",
       "      <th>2</th>\n",
       "      <td>174</td>\n",
       "      <td>C59484037</td>\n",
       "      <td>45</td>\n",
       "      <td>2020-06-01 11:00:00</td>\n",
       "      <td>2020-06-01 11:25:00</td>\n",
       "      <td>3900</td>\n",
       "      <td>新座店</td>\n",
       "      <td>埼玉</td>\n",
       "      <td>埼玉</td>\n",
       "      <td>デリバリー</td>\n",
       "      <td>お渡し済み</td>\n",
       "    </tr>\n",
       "    <tr>\n",
       "      <th>3</th>\n",
       "      <td>23</td>\n",
       "      <td>C57278332</td>\n",
       "      <td>70</td>\n",
       "      <td>2020-06-01 11:00:00</td>\n",
       "      <td>2020-06-01 11:45:00</td>\n",
       "      <td>2750</td>\n",
       "      <td>江東店</td>\n",
       "      <td>東京</td>\n",
       "      <td>東京</td>\n",
       "      <td>デリバリー</td>\n",
       "      <td>お渡し済み</td>\n",
       "    </tr>\n",
       "    <tr>\n",
       "      <th>4</th>\n",
       "      <td>7</td>\n",
       "      <td>C36890849</td>\n",
       "      <td>80</td>\n",
       "      <td>2020-06-01 11:00:00</td>\n",
       "      <td>2020-06-01 11:23:00</td>\n",
       "      <td>2328</td>\n",
       "      <td>東尾久店</td>\n",
       "      <td>東京</td>\n",
       "      <td>東京</td>\n",
       "      <td>デリバリー</td>\n",
       "      <td>お渡し済み</td>\n",
       "    </tr>\n",
       "  </tbody>\n",
       "</table>\n",
       "</div>"
      ],
      "text/plain": [
       "   store_id customer_id  coupon_cd    order_accept_date       delivered_date  \\\n",
       "0        64   C44271355         49  2020-06-01 11:00:00  2020-06-01 11:55:00   \n",
       "1        12   C98307866         98  2020-06-01 11:00:00  2020-06-01 11:52:00   \n",
       "2       174   C59484037         45  2020-06-01 11:00:00  2020-06-01 11:25:00   \n",
       "3        23   C57278332         70  2020-06-01 11:00:00  2020-06-01 11:45:00   \n",
       "4         7   C36890849         80  2020-06-01 11:00:00  2020-06-01 11:23:00   \n",
       "\n",
       "   total_amount store_name wide_area narrow_area takeout_name status_name  \n",
       "0          2732       西東京店        東京          東京        デリバリー       お渡し済み  \n",
       "1          2064       西葛西店        東京          東京        デリバリー       お渡し済み  \n",
       "2          3900        新座店        埼玉          埼玉        デリバリー       お渡し済み  \n",
       "3          2750        江東店        東京          東京        デリバリー       お渡し済み  \n",
       "4          2328       東尾久店        東京          東京        デリバリー       お渡し済み  "
      ]
     },
     "execution_count": 3,
     "metadata": {},
     "output_type": "execute_result"
    }
   ],
   "source": [
    "analyze_data = order_data[['store_id', 'customer_id', 'coupon_cd',\n",
    "       'order_accept_date', 'delivered_date',  'total_amount',\n",
    "        'store_name', 'wide_area', 'narrow_area',\n",
    "       'takeout_name', 'status_name']]\n",
    "print(analyze_data.shape)\n",
    "analyze_data.head()"
   ]
  },
  {
   "cell_type": "markdown",
   "metadata": {},
   "source": [
    "# 12.データの全体像を把握しよう"
   ]
  },
  {
   "cell_type": "code",
   "execution_count": 4,
   "metadata": {},
   "outputs": [
    {
     "data": {
      "text/html": [
       "<div>\n",
       "<style scoped>\n",
       "    .dataframe tbody tr th:only-of-type {\n",
       "        vertical-align: middle;\n",
       "    }\n",
       "\n",
       "    .dataframe tbody tr th {\n",
       "        vertical-align: top;\n",
       "    }\n",
       "\n",
       "    .dataframe thead th {\n",
       "        text-align: right;\n",
       "    }\n",
       "</style>\n",
       "<table border=\"1\" class=\"dataframe\">\n",
       "  <thead>\n",
       "    <tr style=\"text-align: right;\">\n",
       "      <th></th>\n",
       "      <th>store_id</th>\n",
       "      <th>coupon_cd</th>\n",
       "      <th>total_amount</th>\n",
       "    </tr>\n",
       "  </thead>\n",
       "  <tbody>\n",
       "    <tr>\n",
       "      <th>count</th>\n",
       "      <td>574436.000000</td>\n",
       "      <td>574436.000000</td>\n",
       "      <td>574436.000000</td>\n",
       "    </tr>\n",
       "    <tr>\n",
       "      <th>mean</th>\n",
       "      <td>99.113844</td>\n",
       "      <td>49.478758</td>\n",
       "      <td>2960.087555</td>\n",
       "    </tr>\n",
       "    <tr>\n",
       "      <th>std</th>\n",
       "      <td>55.913615</td>\n",
       "      <td>28.888993</td>\n",
       "      <td>954.282731</td>\n",
       "    </tr>\n",
       "    <tr>\n",
       "      <th>min</th>\n",
       "      <td>1.000000</td>\n",
       "      <td>0.000000</td>\n",
       "      <td>698.000000</td>\n",
       "    </tr>\n",
       "    <tr>\n",
       "      <th>25%</th>\n",
       "      <td>51.000000</td>\n",
       "      <td>24.000000</td>\n",
       "      <td>2308.000000</td>\n",
       "    </tr>\n",
       "    <tr>\n",
       "      <th>50%</th>\n",
       "      <td>99.000000</td>\n",
       "      <td>49.000000</td>\n",
       "      <td>2808.000000</td>\n",
       "    </tr>\n",
       "    <tr>\n",
       "      <th>75%</th>\n",
       "      <td>147.000000</td>\n",
       "      <td>75.000000</td>\n",
       "      <td>3617.000000</td>\n",
       "    </tr>\n",
       "    <tr>\n",
       "      <th>max</th>\n",
       "      <td>196.000000</td>\n",
       "      <td>99.000000</td>\n",
       "      <td>5100.000000</td>\n",
       "    </tr>\n",
       "  </tbody>\n",
       "</table>\n",
       "</div>"
      ],
      "text/plain": [
       "            store_id      coupon_cd   total_amount\n",
       "count  574436.000000  574436.000000  574436.000000\n",
       "mean       99.113844      49.478758    2960.087555\n",
       "std        55.913615      28.888993     954.282731\n",
       "min         1.000000       0.000000     698.000000\n",
       "25%        51.000000      24.000000    2308.000000\n",
       "50%        99.000000      49.000000    2808.000000\n",
       "75%       147.000000      75.000000    3617.000000\n",
       "max       196.000000      99.000000    5100.000000"
      ]
     },
     "execution_count": 4,
     "metadata": {},
     "output_type": "execute_result"
    }
   ],
   "source": [
    "analyze_data.describe()"
   ]
  },
  {
   "cell_type": "code",
   "execution_count": 6,
   "metadata": {},
   "outputs": [
    {
     "data": {
      "text/plain": [
       "store_id              int64\n",
       "customer_id          object\n",
       "coupon_cd             int64\n",
       "order_accept_date    object\n",
       "delivered_date       object\n",
       "total_amount          int64\n",
       "store_name           object\n",
       "wide_area            object\n",
       "narrow_area          object\n",
       "takeout_name         object\n",
       "status_name          object\n",
       "dtype: object"
      ]
     },
     "execution_count": 6,
     "metadata": {},
     "output_type": "execute_result"
    }
   ],
   "source": [
    "analyze_data.dtypes"
   ]
  },
  {
   "cell_type": "code",
   "execution_count": 9,
   "metadata": {},
   "outputs": [
    {
     "data": {
      "text/plain": [
       "store_id             object\n",
       "customer_id          object\n",
       "coupon_cd            object\n",
       "order_accept_date    object\n",
       "delivered_date       object\n",
       "total_amount          int64\n",
       "store_name           object\n",
       "wide_area            object\n",
       "narrow_area          object\n",
       "takeout_name         object\n",
       "status_name          object\n",
       "dtype: object"
      ]
     },
     "execution_count": 9,
     "metadata": {},
     "output_type": "execute_result"
    }
   ],
   "source": [
    "# analyze_dataの参照元のorder_dataも型を変えるべき\n",
    "analyze_data[['store_id', 'coupon_cd']] = analyze_data[['store_id', 'coupon_cd']].astype(str)\n",
    "analyze_data.dtypes"
   ]
  },
  {
   "cell_type": "code",
   "execution_count": 8,
   "metadata": {},
   "outputs": [],
   "source": [
    "import warnings\n",
    "warnings.filterwarnings('ignore')"
   ]
  },
  {
   "cell_type": "code",
   "execution_count": 10,
   "metadata": {},
   "outputs": [
    {
     "data": {
      "text/html": [
       "<div>\n",
       "<style scoped>\n",
       "    .dataframe tbody tr th:only-of-type {\n",
       "        vertical-align: middle;\n",
       "    }\n",
       "\n",
       "    .dataframe tbody tr th {\n",
       "        vertical-align: top;\n",
       "    }\n",
       "\n",
       "    .dataframe thead th {\n",
       "        text-align: right;\n",
       "    }\n",
       "</style>\n",
       "<table border=\"1\" class=\"dataframe\">\n",
       "  <thead>\n",
       "    <tr style=\"text-align: right;\">\n",
       "      <th></th>\n",
       "      <th>total_amount</th>\n",
       "    </tr>\n",
       "  </thead>\n",
       "  <tbody>\n",
       "    <tr>\n",
       "      <th>count</th>\n",
       "      <td>574436.000000</td>\n",
       "    </tr>\n",
       "    <tr>\n",
       "      <th>mean</th>\n",
       "      <td>2960.087555</td>\n",
       "    </tr>\n",
       "    <tr>\n",
       "      <th>std</th>\n",
       "      <td>954.282731</td>\n",
       "    </tr>\n",
       "    <tr>\n",
       "      <th>min</th>\n",
       "      <td>698.000000</td>\n",
       "    </tr>\n",
       "    <tr>\n",
       "      <th>25%</th>\n",
       "      <td>2308.000000</td>\n",
       "    </tr>\n",
       "    <tr>\n",
       "      <th>50%</th>\n",
       "      <td>2808.000000</td>\n",
       "    </tr>\n",
       "    <tr>\n",
       "      <th>75%</th>\n",
       "      <td>3617.000000</td>\n",
       "    </tr>\n",
       "    <tr>\n",
       "      <th>max</th>\n",
       "      <td>5100.000000</td>\n",
       "    </tr>\n",
       "  </tbody>\n",
       "</table>\n",
       "</div>"
      ],
      "text/plain": [
       "        total_amount\n",
       "count  574436.000000\n",
       "mean     2960.087555\n",
       "std       954.282731\n",
       "min       698.000000\n",
       "25%      2308.000000\n",
       "50%      2808.000000\n",
       "75%      3617.000000\n",
       "max      5100.000000"
      ]
     },
     "execution_count": 10,
     "metadata": {},
     "output_type": "execute_result"
    }
   ],
   "source": [
    "analyze_data.describe()"
   ]
  },
  {
   "cell_type": "markdown",
   "metadata": {},
   "source": [
    "# 月別の売り上げを集計してみよう"
   ]
  },
  {
   "cell_type": "code",
   "execution_count": 12,
   "metadata": {},
   "outputs": [
    {
     "data": {
      "text/html": [
       "<div>\n",
       "<style scoped>\n",
       "    .dataframe tbody tr th:only-of-type {\n",
       "        vertical-align: middle;\n",
       "    }\n",
       "\n",
       "    .dataframe tbody tr th {\n",
       "        vertical-align: top;\n",
       "    }\n",
       "\n",
       "    .dataframe thead th {\n",
       "        text-align: right;\n",
       "    }\n",
       "</style>\n",
       "<table border=\"1\" class=\"dataframe\">\n",
       "  <thead>\n",
       "    <tr style=\"text-align: right;\">\n",
       "      <th></th>\n",
       "      <th>order_accept_date</th>\n",
       "      <th>order_accept_month</th>\n",
       "    </tr>\n",
       "  </thead>\n",
       "  <tbody>\n",
       "    <tr>\n",
       "      <th>0</th>\n",
       "      <td>2020-06-01 11:00:00</td>\n",
       "      <td>202006</td>\n",
       "    </tr>\n",
       "    <tr>\n",
       "      <th>1</th>\n",
       "      <td>2020-06-01 11:00:00</td>\n",
       "      <td>202006</td>\n",
       "    </tr>\n",
       "    <tr>\n",
       "      <th>2</th>\n",
       "      <td>2020-06-01 11:00:00</td>\n",
       "      <td>202006</td>\n",
       "    </tr>\n",
       "    <tr>\n",
       "      <th>3</th>\n",
       "      <td>2020-06-01 11:00:00</td>\n",
       "      <td>202006</td>\n",
       "    </tr>\n",
       "    <tr>\n",
       "      <th>4</th>\n",
       "      <td>2020-06-01 11:00:00</td>\n",
       "      <td>202006</td>\n",
       "    </tr>\n",
       "  </tbody>\n",
       "</table>\n",
       "</div>"
      ],
      "text/plain": [
       "    order_accept_date order_accept_month\n",
       "0 2020-06-01 11:00:00             202006\n",
       "1 2020-06-01 11:00:00             202006\n",
       "2 2020-06-01 11:00:00             202006\n",
       "3 2020-06-01 11:00:00             202006\n",
       "4 2020-06-01 11:00:00             202006"
      ]
     },
     "execution_count": 12,
     "metadata": {},
     "output_type": "execute_result"
    }
   ],
   "source": [
    "analyze_data['order_accept_date'] = pd.to_datetime(analyze_data['order_accept_date'])\n",
    "analyze_data['order_accept_month'] = analyze_data['order_accept_date'].dt.strftime('%Y%m')\n",
    "analyze_data[['order_accept_date', 'order_accept_month']].head()"
   ]
  },
  {
   "cell_type": "code",
   "execution_count": 13,
   "metadata": {},
   "outputs": [
    {
     "data": {
      "text/html": [
       "<div>\n",
       "<style scoped>\n",
       "    .dataframe tbody tr th:only-of-type {\n",
       "        vertical-align: middle;\n",
       "    }\n",
       "\n",
       "    .dataframe tbody tr th {\n",
       "        vertical-align: top;\n",
       "    }\n",
       "\n",
       "    .dataframe thead th {\n",
       "        text-align: right;\n",
       "    }\n",
       "</style>\n",
       "<table border=\"1\" class=\"dataframe\">\n",
       "  <thead>\n",
       "    <tr style=\"text-align: right;\">\n",
       "      <th></th>\n",
       "      <th>delivered_date</th>\n",
       "      <th>delivered_month</th>\n",
       "    </tr>\n",
       "  </thead>\n",
       "  <tbody>\n",
       "    <tr>\n",
       "      <th>0</th>\n",
       "      <td>2020-06-01 11:55:00</td>\n",
       "      <td>202006</td>\n",
       "    </tr>\n",
       "    <tr>\n",
       "      <th>1</th>\n",
       "      <td>2020-06-01 11:52:00</td>\n",
       "      <td>202006</td>\n",
       "    </tr>\n",
       "    <tr>\n",
       "      <th>2</th>\n",
       "      <td>2020-06-01 11:25:00</td>\n",
       "      <td>202006</td>\n",
       "    </tr>\n",
       "    <tr>\n",
       "      <th>3</th>\n",
       "      <td>2020-06-01 11:45:00</td>\n",
       "      <td>202006</td>\n",
       "    </tr>\n",
       "    <tr>\n",
       "      <th>4</th>\n",
       "      <td>2020-06-01 11:23:00</td>\n",
       "      <td>202006</td>\n",
       "    </tr>\n",
       "    <tr>\n",
       "      <th>...</th>\n",
       "      <td>...</td>\n",
       "      <td>...</td>\n",
       "    </tr>\n",
       "    <tr>\n",
       "      <th>703875</th>\n",
       "      <td>2020-05-31 22:42:58</td>\n",
       "      <td>202005</td>\n",
       "    </tr>\n",
       "    <tr>\n",
       "      <th>703876</th>\n",
       "      <td>2020-05-31 22:40:58</td>\n",
       "      <td>202005</td>\n",
       "    </tr>\n",
       "    <tr>\n",
       "      <th>703877</th>\n",
       "      <td>2020-05-31 22:38:58</td>\n",
       "      <td>202005</td>\n",
       "    </tr>\n",
       "    <tr>\n",
       "      <th>703878</th>\n",
       "      <td>2020-05-31 22:52:58</td>\n",
       "      <td>202005</td>\n",
       "    </tr>\n",
       "    <tr>\n",
       "      <th>703879</th>\n",
       "      <td>2020-05-31 22:08:58</td>\n",
       "      <td>202005</td>\n",
       "    </tr>\n",
       "  </tbody>\n",
       "</table>\n",
       "<p>574436 rows × 2 columns</p>\n",
       "</div>"
      ],
      "text/plain": [
       "            delivered_date delivered_month\n",
       "0      2020-06-01 11:55:00          202006\n",
       "1      2020-06-01 11:52:00          202006\n",
       "2      2020-06-01 11:25:00          202006\n",
       "3      2020-06-01 11:45:00          202006\n",
       "4      2020-06-01 11:23:00          202006\n",
       "...                    ...             ...\n",
       "703875 2020-05-31 22:42:58          202005\n",
       "703876 2020-05-31 22:40:58          202005\n",
       "703877 2020-05-31 22:38:58          202005\n",
       "703878 2020-05-31 22:52:58          202005\n",
       "703879 2020-05-31 22:08:58          202005\n",
       "\n",
       "[574436 rows x 2 columns]"
      ]
     },
     "execution_count": 13,
     "metadata": {},
     "output_type": "execute_result"
    }
   ],
   "source": [
    "analyze_data['delivered_date'] = pd.to_datetime(analyze_data['delivered_date'])\n",
    "analyze_data['delivered_month'] = analyze_data['delivered_date'].dt.strftime('%Y%m')\n",
    "analyze_data[['delivered_date', 'delivered_month']]"
   ]
  },
  {
   "cell_type": "code",
   "execution_count": 14,
   "metadata": {},
   "outputs": [
    {
     "data": {
      "text/html": [
       "<div>\n",
       "<style scoped>\n",
       "    .dataframe tbody tr th:only-of-type {\n",
       "        vertical-align: middle;\n",
       "    }\n",
       "\n",
       "    .dataframe tbody tr th {\n",
       "        vertical-align: top;\n",
       "    }\n",
       "\n",
       "    .dataframe thead tr th {\n",
       "        text-align: left;\n",
       "    }\n",
       "\n",
       "    .dataframe thead tr:last-of-type th {\n",
       "        text-align: right;\n",
       "    }\n",
       "</style>\n",
       "<table border=\"1\" class=\"dataframe\">\n",
       "  <thead>\n",
       "    <tr>\n",
       "      <th></th>\n",
       "      <th colspan=\"8\" halign=\"left\">total_amount</th>\n",
       "    </tr>\n",
       "    <tr>\n",
       "      <th></th>\n",
       "      <th>count</th>\n",
       "      <th>mean</th>\n",
       "      <th>std</th>\n",
       "      <th>min</th>\n",
       "      <th>25%</th>\n",
       "      <th>50%</th>\n",
       "      <th>75%</th>\n",
       "      <th>max</th>\n",
       "    </tr>\n",
       "    <tr>\n",
       "      <th>order_accept_month</th>\n",
       "      <th></th>\n",
       "      <th></th>\n",
       "      <th></th>\n",
       "      <th></th>\n",
       "      <th></th>\n",
       "      <th></th>\n",
       "      <th></th>\n",
       "      <th></th>\n",
       "    </tr>\n",
       "  </thead>\n",
       "  <tbody>\n",
       "    <tr>\n",
       "      <th>202004</th>\n",
       "      <td>189414.0</td>\n",
       "      <td>2959.440638</td>\n",
       "      <td>954.271169</td>\n",
       "      <td>698.0</td>\n",
       "      <td>2308.0</td>\n",
       "      <td>2808.0</td>\n",
       "      <td>3586.0</td>\n",
       "      <td>5100.0</td>\n",
       "    </tr>\n",
       "    <tr>\n",
       "      <th>202005</th>\n",
       "      <td>195684.0</td>\n",
       "      <td>2960.327799</td>\n",
       "      <td>954.823248</td>\n",
       "      <td>698.0</td>\n",
       "      <td>2308.0</td>\n",
       "      <td>2808.0</td>\n",
       "      <td>3586.0</td>\n",
       "      <td>5100.0</td>\n",
       "    </tr>\n",
       "    <tr>\n",
       "      <th>202006</th>\n",
       "      <td>189338.0</td>\n",
       "      <td>2960.486437</td>\n",
       "      <td>953.740057</td>\n",
       "      <td>698.0</td>\n",
       "      <td>2308.0</td>\n",
       "      <td>2808.0</td>\n",
       "      <td>3617.0</td>\n",
       "      <td>5100.0</td>\n",
       "    </tr>\n",
       "  </tbody>\n",
       "</table>\n",
       "</div>"
      ],
      "text/plain": [
       "                   total_amount                                          \\\n",
       "                          count         mean         std    min     25%   \n",
       "order_accept_month                                                        \n",
       "202004                 189414.0  2959.440638  954.271169  698.0  2308.0   \n",
       "202005                 195684.0  2960.327799  954.823248  698.0  2308.0   \n",
       "202006                 189338.0  2960.486437  953.740057  698.0  2308.0   \n",
       "\n",
       "                                            \n",
       "                       50%     75%     max  \n",
       "order_accept_month                          \n",
       "202004              2808.0  3586.0  5100.0  \n",
       "202005              2808.0  3586.0  5100.0  \n",
       "202006              2808.0  3617.0  5100.0  "
      ]
     },
     "execution_count": 14,
     "metadata": {},
     "output_type": "execute_result"
    }
   ],
   "source": [
    "month_data = analyze_data.groupby('order_accept_month')\n",
    "month_data.describe()"
   ]
  },
  {
   "cell_type": "code",
   "execution_count": 16,
   "metadata": {},
   "outputs": [
    {
     "data": {
      "text/html": [
       "<div>\n",
       "<style scoped>\n",
       "    .dataframe tbody tr th:only-of-type {\n",
       "        vertical-align: middle;\n",
       "    }\n",
       "\n",
       "    .dataframe tbody tr th {\n",
       "        vertical-align: top;\n",
       "    }\n",
       "\n",
       "    .dataframe thead th {\n",
       "        text-align: right;\n",
       "    }\n",
       "</style>\n",
       "<table border=\"1\" class=\"dataframe\">\n",
       "  <thead>\n",
       "    <tr style=\"text-align: right;\">\n",
       "      <th></th>\n",
       "      <th>total_amount</th>\n",
       "    </tr>\n",
       "    <tr>\n",
       "      <th>order_accept_month</th>\n",
       "      <th></th>\n",
       "    </tr>\n",
       "  </thead>\n",
       "  <tbody>\n",
       "    <tr>\n",
       "      <th>202004</th>\n",
       "      <td>560559489</td>\n",
       "    </tr>\n",
       "    <tr>\n",
       "      <th>202005</th>\n",
       "      <td>579288785</td>\n",
       "    </tr>\n",
       "    <tr>\n",
       "      <th>202006</th>\n",
       "      <td>560532581</td>\n",
       "    </tr>\n",
       "  </tbody>\n",
       "</table>\n",
       "</div>"
      ],
      "text/plain": [
       "                    total_amount\n",
       "order_accept_month              \n",
       "202004                 560559489\n",
       "202005                 579288785\n",
       "202006                 560532581"
      ]
     },
     "execution_count": 16,
     "metadata": {},
     "output_type": "execute_result"
    }
   ],
   "source": [
    "month_data.sum()"
   ]
  },
  {
   "cell_type": "markdown",
   "metadata": {},
   "source": [
    "# 14.月別の推移を可視化してみよう"
   ]
  },
  {
   "cell_type": "code",
   "execution_count": 17,
   "metadata": {},
   "outputs": [
    {
     "data": {
      "text/plain": [
       "<AxesSubplot:xlabel='order_accept_month'>"
      ]
     },
     "execution_count": 17,
     "metadata": {},
     "output_type": "execute_result"
    },
    {
     "data": {
      "image/png": "[encoded data removed]",
      "text/plain": [
       "<Figure size 432x288 with 1 Axes>"
      ]
     },
     "metadata": {
      "needs_background": "light"
     },
     "output_type": "display_data"
    }
   ],
   "source": [
    "import matplotlib.pyplot as plt\n",
    "%matplotlib inline\n",
    "\n",
    "month_data.sum().plot()"
   ]
  },
  {
   "cell_type": "code",
   "execution_count": 18,
   "metadata": {},
   "outputs": [
    {
     "data": {
      "text/plain": [
       "<AxesSubplot:xlabel='order_accept_month'>"
      ]
     },
     "execution_count": 18,
     "metadata": {},
     "output_type": "execute_result"
    },
    {
     "data": {
      "image/png": "[encoded data removed]",
      "text/plain": [
       "<Figure size 432x288 with 1 Axes>"
      ]
     },
     "metadata": {
      "needs_background": "light"
     },
     "output_type": "display_data"
    }
   ],
   "source": [
    "month_data.mean().plot()"
   ]
  },
  {
   "cell_type": "markdown",
   "metadata": {},
   "source": [
    "# 15.売り上げからヒストグラムを作成してみよう"
   ]
  },
  {
   "cell_type": "code",
   "execution_count": 19,
   "metadata": {},
   "outputs": [
    {
     "data": {
      "text/plain": [
       "(array([ 21524.,      0.,  48969., 135664., 111217.,  77622.,  54146.,\n",
       "         59814.,  34394.,  31086.]),\n",
       " array([ 698. , 1138.2, 1578.4, 2018.6, 2458.8, 2899. , 3339.2, 3779.4,\n",
       "        4219.6, 4659.8, 5100. ]),\n",
       " <BarContainer object of 10 artists>)"
      ]
     },
     "execution_count": 19,
     "metadata": {},
     "output_type": "execute_result"
    },
    {
     "data": {
      "image/png": "[encoded data removed]",
      "text/plain": [
       "<Figure size 432x288 with 1 Axes>"
      ]
     },
     "metadata": {
      "needs_background": "light"
     },
     "output_type": "display_data"
    }
   ],
   "source": [
    "plt.hist(analyze_data['total_amount'])"
   ]
  },
  {
   "cell_type": "code",
   "execution_count": 20,
   "metadata": {},
   "outputs": [
    {
     "data": {
      "text/plain": [
       "(array([10728., 10796.,     0.,     0.,     0., 48969., 45777., 78334.,\n",
       "        23175., 66451., 44368., 38745., 27653., 42503., 12508., 35285.,\n",
       "        23739., 11151., 23168., 22649.,  8437.]),\n",
       " array([ 698.        ,  907.61904762, 1117.23809524, 1326.85714286,\n",
       "        1536.47619048, 1746.0952381 , 1955.71428571, 2165.33333333,\n",
       "        2374.95238095, 2584.57142857, 2794.19047619, 3003.80952381,\n",
       "        3213.42857143, 3423.04761905, 3632.66666667, 3842.28571429,\n",
       "        4051.9047619 , 4261.52380952, 4471.14285714, 4680.76190476,\n",
       "        4890.38095238, 5100.        ]),\n",
       " <BarContainer object of 21 artists>)"
      ]
     },
     "execution_count": 20,
     "metadata": {},
     "output_type": "execute_result"
    },
    {
     "data": {
      "image/png": "[encoded data removed]",
      "text/plain": [
       "<Figure size 432x288 with 1 Axes>"
      ]
     },
     "metadata": {
      "needs_background": "light"
     },
     "output_type": "display_data"
    }
   ],
   "source": [
    "plt.hist(analyze_data['total_amount'], bins=21)"
   ]
  },
  {
   "cell_type": "markdown",
   "metadata": {},
   "source": [
    "# 16.都道府県別の売り上げを集計して可視化しよう"
   ]
  },
  {
   "cell_type": "code",
   "execution_count": 22,
   "metadata": {},
   "outputs": [
    {
     "data": {
      "text/html": [
       "<div>\n",
       "<style scoped>\n",
       "    .dataframe tbody tr th:only-of-type {\n",
       "        vertical-align: middle;\n",
       "    }\n",
       "\n",
       "    .dataframe tbody tr th {\n",
       "        vertical-align: top;\n",
       "    }\n",
       "\n",
       "    .dataframe thead th {\n",
       "        text-align: right;\n",
       "    }\n",
       "</style>\n",
       "<table border=\"1\" class=\"dataframe\">\n",
       "  <thead>\n",
       "    <tr style=\"text-align: right;\">\n",
       "      <th>narrow_area</th>\n",
       "      <th>千葉</th>\n",
       "      <th>埼玉</th>\n",
       "      <th>東京</th>\n",
       "      <th>栃木</th>\n",
       "      <th>神奈川</th>\n",
       "      <th>群馬</th>\n",
       "      <th>茨城</th>\n",
       "    </tr>\n",
       "    <tr>\n",
       "      <th>order_accept_month</th>\n",
       "      <th></th>\n",
       "      <th></th>\n",
       "      <th></th>\n",
       "      <th></th>\n",
       "      <th></th>\n",
       "      <th></th>\n",
       "      <th></th>\n",
       "    </tr>\n",
       "  </thead>\n",
       "  <tbody>\n",
       "    <tr>\n",
       "      <th>202004</th>\n",
       "      <td>2959.062000</td>\n",
       "      <td>2976.519634</td>\n",
       "      <td>2960.592173</td>\n",
       "      <td>2992.173548</td>\n",
       "      <td>2948.001171</td>\n",
       "      <td>2942.046543</td>\n",
       "      <td>2947.479814</td>\n",
       "    </tr>\n",
       "    <tr>\n",
       "      <th>202005</th>\n",
       "      <td>2953.545504</td>\n",
       "      <td>2977.290771</td>\n",
       "      <td>2962.603059</td>\n",
       "      <td>2998.165682</td>\n",
       "      <td>2949.597054</td>\n",
       "      <td>2948.269611</td>\n",
       "      <td>2941.796835</td>\n",
       "    </tr>\n",
       "    <tr>\n",
       "      <th>202006</th>\n",
       "      <td>2955.761885</td>\n",
       "      <td>2976.988380</td>\n",
       "      <td>2962.949987</td>\n",
       "      <td>2991.542844</td>\n",
       "      <td>2950.520464</td>\n",
       "      <td>2945.504744</td>\n",
       "      <td>2935.951783</td>\n",
       "    </tr>\n",
       "  </tbody>\n",
       "</table>\n",
       "</div>"
      ],
      "text/plain": [
       "narrow_area                  千葉           埼玉           東京           栃木  \\\n",
       "order_accept_month                                                       \n",
       "202004              2959.062000  2976.519634  2960.592173  2992.173548   \n",
       "202005              2953.545504  2977.290771  2962.603059  2998.165682   \n",
       "202006              2955.761885  2976.988380  2962.949987  2991.542844   \n",
       "\n",
       "narrow_area                 神奈川           群馬           茨城  \n",
       "order_accept_month                                         \n",
       "202004              2948.001171  2942.046543  2947.479814  \n",
       "202005              2949.597054  2948.269611  2941.796835  \n",
       "202006              2950.520464  2945.504744  2935.951783  "
      ]
     },
     "execution_count": 22,
     "metadata": {},
     "output_type": "execute_result"
    }
   ],
   "source": [
    "pre_data = pd.pivot_table(analyze_data, index='order_accept_month', columns='narrow_area', values='total_amount')\n",
    "pre_data"
   ]
  },
  {
   "cell_type": "code",
   "execution_count": 26,
   "metadata": {},
   "outputs": [
    {
     "name": "stdout",
     "output_type": "stream",
     "text": [
      "Collecting japanize_matplotlib\n",
      "  Downloading japanize-matplotlib-1.1.3.tar.gz (4.1 MB)\n",
      "\u001b[K     |████████████████████████████████| 4.1 MB 3.6 MB/s eta 0:00:01     |██████████████████▏             | 2.3 MB 3.6 MB/s eta 0:00:01\n",
      "\u001b[?25hRequirement already satisfied: matplotlib in /Users/takakiyuuto/opt/anaconda3/lib/python3.8/site-packages (from japanize_matplotlib) (3.3.2)\n",
      "Requirement already satisfied: pyparsing!=2.0.4,!=2.1.2,!=2.1.6,>=2.0.3 in /Users/takakiyuuto/opt/anaconda3/lib/python3.8/site-packages (from matplotlib->japanize_matplotlib) (2.4.7)\n",
      "Requirement already satisfied: python-dateutil>=2.1 in /Users/takakiyuuto/opt/anaconda3/lib/python3.8/site-packages (from matplotlib->japanize_matplotlib) (2.8.1)\n",
      "Requirement already satisfied: kiwisolver>=1.0.1 in /Users/takakiyuuto/opt/anaconda3/lib/python3.8/site-packages (from matplotlib->japanize_matplotlib) (1.3.0)\n",
      "Requirement already satisfied: numpy>=1.15 in /Users/takakiyuuto/opt/anaconda3/lib/python3.8/site-packages (from matplotlib->japanize_matplotlib) (1.19.2)\n",
      "Requirement already satisfied: certifi>=2020.06.20 in /Users/takakiyuuto/opt/anaconda3/lib/python3.8/site-packages (from matplotlib->japanize_matplotlib) (2020.6.20)\n",
      "Requirement already satisfied: cycler>=0.10 in /Users/takakiyuuto/opt/anaconda3/lib/python3.8/site-packages (from matplotlib->japanize_matplotlib) (0.10.0)\n",
      "Requirement already satisfied: pillow>=6.2.0 in /Users/takakiyuuto/opt/anaconda3/lib/python3.8/site-packages (from matplotlib->japanize_matplotlib) (8.0.1)\n",
      "Requirement already satisfied: six>=1.5 in /Users/takakiyuuto/opt/anaconda3/lib/python3.8/site-packages (from python-dateutil>=2.1->matplotlib->japanize_matplotlib) (1.15.0)\n",
      "Building wheels for collected packages: japanize-matplotlib\n",
      "  Building wheel for japanize-matplotlib (setup.py) ... \u001b[?25ldone\n",
      "\u001b[?25h  Created wheel for japanize-matplotlib: filename=japanize_matplotlib-1.1.3-py3-none-any.whl size=4120274 sha256=864742ceb2bf6572a08eb959d06d1b05682d4a8efdb5bd7f9db918022da309d2\n",
      "  Stored in directory: /Users/takakiyuuto/Library/Caches/pip/wheels/4f/ca/96/4cc5e192421cceb077fbf4ffec533382edd416fd3fa0af0bbd\n",
      "Successfully built japanize-matplotlib\n",
      "Installing collected packages: japanize-matplotlib\n",
      "Successfully installed japanize-matplotlib-1.1.3\n"
     ]
    }
   ],
   "source": [
    "!pip install japanize_matplotlib\n",
    "import japanize_matplotlib"
   ]
  },
  {
   "cell_type": "code",
   "execution_count": 27,
   "metadata": {},
   "outputs": [
    {
     "data": {
      "text/plain": [
       "Index(['202004', '202005', '202006'], dtype='object', name='order_accept_month')"
      ]
     },
     "execution_count": 27,
     "metadata": {},
     "output_type": "execute_result"
    }
   ],
   "source": [
    "pre_data.index"
   ]
  },
  {
   "cell_type": "code",
   "execution_count": 29,
   "metadata": {},
   "outputs": [
    {
     "data": {
      "text/plain": [
       "<matplotlib.legend.Legend at 0x7ff21711d5b0>"
      ]
     },
     "execution_count": 29,
     "metadata": {},
     "output_type": "execute_result"
    },
    {
     "data": {
      "image/png": "[encoded data removed]",
      "text/plain": [
       "<Figure size 432x288 with 1 Axes>"
      ]
     },
     "metadata": {
      "needs_background": "light"
     },
     "output_type": "display_data"
    }
   ],
   "source": [
    "plt.plot(list(pre_data.index), pre_data['千葉'], label='千葉')\n",
    "plt.plot(list(pre_data.index), pre_data['埼玉'], label='埼玉')\n",
    "plt.plot(list(pre_data.index), pre_data['東京'], label='東京')\n",
    "plt.plot(list(pre_data.index), pre_data['栃木'], label='栃木')\n",
    "plt.plot(list(pre_data.index), pre_data['神奈川'], label='神奈川')\n",
    "plt.plot(list(pre_data.index), pre_data['群馬'], label='群馬')\n",
    "plt.plot(list(pre_data.index), pre_data['茨城'], label='茨城')\n",
    "plt.legend()"
   ]
  },
  {
   "cell_type": "markdown",
   "metadata": {},
   "source": [
    "# 17.クラスタリングに向けてデータを加工しよう"
   ]
  },
  {
   "cell_type": "code",
   "execution_count": 32,
   "metadata": {},
   "outputs": [
    {
     "name": "stdout",
     "output_type": "stream",
     "text": [
      "196\n"
     ]
    },
    {
     "data": {
      "text/html": [
       "<div>\n",
       "<style scoped>\n",
       "    .dataframe tbody tr th:only-of-type {\n",
       "        vertical-align: middle;\n",
       "    }\n",
       "\n",
       "    .dataframe tbody tr th {\n",
       "        vertical-align: top;\n",
       "    }\n",
       "\n",
       "    .dataframe thead th {\n",
       "        text-align: right;\n",
       "    }\n",
       "</style>\n",
       "<table border=\"1\" class=\"dataframe\">\n",
       "  <thead>\n",
       "    <tr style=\"text-align: right;\">\n",
       "      <th></th>\n",
       "      <th>size</th>\n",
       "      <th>mean</th>\n",
       "      <th>median</th>\n",
       "      <th>max</th>\n",
       "      <th>min</th>\n",
       "    </tr>\n",
       "  </thead>\n",
       "  <tbody>\n",
       "    <tr>\n",
       "      <th>0</th>\n",
       "      <td>2877</td>\n",
       "      <td>3129.834897</td>\n",
       "      <td>3050</td>\n",
       "      <td>5100</td>\n",
       "      <td>1857</td>\n",
       "    </tr>\n",
       "    <tr>\n",
       "      <th>1</th>\n",
       "      <td>2294</td>\n",
       "      <td>2989.003923</td>\n",
       "      <td>2677</td>\n",
       "      <td>5100</td>\n",
       "      <td>698</td>\n",
       "    </tr>\n",
       "    <tr>\n",
       "      <th>2</th>\n",
       "      <td>3776</td>\n",
       "      <td>2947.170286</td>\n",
       "      <td>2808</td>\n",
       "      <td>5100</td>\n",
       "      <td>698</td>\n",
       "    </tr>\n",
       "    <tr>\n",
       "      <th>3</th>\n",
       "      <td>1740</td>\n",
       "      <td>3074.770115</td>\n",
       "      <td>2877</td>\n",
       "      <td>4744</td>\n",
       "      <td>1899</td>\n",
       "    </tr>\n",
       "    <tr>\n",
       "      <th>4</th>\n",
       "      <td>2760</td>\n",
       "      <td>2845.661594</td>\n",
       "      <td>2791</td>\n",
       "      <td>4744</td>\n",
       "      <td>698</td>\n",
       "    </tr>\n",
       "  </tbody>\n",
       "</table>\n",
       "</div>"
      ],
      "text/plain": [
       "   size         mean  median   max   min\n",
       "0  2877  3129.834897    3050  5100  1857\n",
       "1  2294  2989.003923    2677  5100   698\n",
       "2  3776  2947.170286    2808  5100   698\n",
       "3  1740  3074.770115    2877  4744  1899\n",
       "4  2760  2845.661594    2791  4744   698"
      ]
     },
     "execution_count": 32,
     "metadata": {},
     "output_type": "execute_result"
    }
   ],
   "source": [
    "store_clustering = analyze_data.groupby('store_id').agg(['size', 'mean', 'median', 'max', 'min'])['total_amount']\n",
    "store_clustering.reset_index(inplace=True, drop=True)\n",
    "print(len(store_clustering))\n",
    "store_clustering.head()"
   ]
  },
  {
   "cell_type": "code",
   "execution_count": 34,
   "metadata": {},
   "outputs": [
    {
     "data": {
      "image/png": "[encoded data removed]",
      "text/plain": [
       "<Figure size 432x432 with 3 Axes>"
      ]
     },
     "metadata": {
      "needs_background": "light"
     },
     "output_type": "display_data"
    }
   ],
   "source": [
    "import seaborn as sns\n",
    "\n",
    "hexbin = sns.jointplot(x='mean', y='size', data=store_clustering, kind='hex')"
   ]
  },
  {
   "cell_type": "code",
   "execution_count": 36,
   "metadata": {},
   "outputs": [
    {
     "data": {
      "text/plain": [
       "<seaborn.axisgrid.JointGrid at 0x7ff1fc5d8340>"
      ]
     },
     "execution_count": 36,
     "metadata": {},
     "output_type": "execute_result"
    },
    {
     "data": {
      "image/png": "[encoded data removed]",
      "text/plain": [
       "<Figure size 432x432 with 3 Axes>"
      ]
     },
     "metadata": {
      "needs_background": "light"
     },
     "output_type": "display_data"
    }
   ],
   "source": [
    "sns.jointplot(x='mean', y='size', data=store_clustering)"
   ]
  },
  {
   "cell_type": "markdown",
   "metadata": {},
   "source": [
    "# クラスタリングで店舗をグループ化してみよう"
   ]
  },
  {
   "cell_type": "code",
   "execution_count": 41,
   "metadata": {},
   "outputs": [
    {
     "data": {
      "text/html": [
       "<div>\n",
       "<style scoped>\n",
       "    .dataframe tbody tr th:only-of-type {\n",
       "        vertical-align: middle;\n",
       "    }\n",
       "\n",
       "    .dataframe tbody tr th {\n",
       "        vertical-align: top;\n",
       "    }\n",
       "\n",
       "    .dataframe thead th {\n",
       "        text-align: right;\n",
       "    }\n",
       "</style>\n",
       "<table border=\"1\" class=\"dataframe\">\n",
       "  <thead>\n",
       "    <tr style=\"text-align: right;\">\n",
       "      <th></th>\n",
       "      <th>size</th>\n",
       "      <th>mean</th>\n",
       "      <th>median</th>\n",
       "      <th>max</th>\n",
       "      <th>min</th>\n",
       "      <th>cluster</th>\n",
       "    </tr>\n",
       "  </thead>\n",
       "  <tbody>\n",
       "    <tr>\n",
       "      <th>0</th>\n",
       "      <td>2877</td>\n",
       "      <td>3129.834897</td>\n",
       "      <td>3050</td>\n",
       "      <td>5100</td>\n",
       "      <td>1857</td>\n",
       "      <td>0</td>\n",
       "    </tr>\n",
       "    <tr>\n",
       "      <th>1</th>\n",
       "      <td>2294</td>\n",
       "      <td>2989.003923</td>\n",
       "      <td>2677</td>\n",
       "      <td>5100</td>\n",
       "      <td>698</td>\n",
       "      <td>3</td>\n",
       "    </tr>\n",
       "    <tr>\n",
       "      <th>2</th>\n",
       "      <td>3776</td>\n",
       "      <td>2947.170286</td>\n",
       "      <td>2808</td>\n",
       "      <td>5100</td>\n",
       "      <td>698</td>\n",
       "      <td>2</td>\n",
       "    </tr>\n",
       "    <tr>\n",
       "      <th>3</th>\n",
       "      <td>1740</td>\n",
       "      <td>3074.770115</td>\n",
       "      <td>2877</td>\n",
       "      <td>4744</td>\n",
       "      <td>1899</td>\n",
       "      <td>0</td>\n",
       "    </tr>\n",
       "    <tr>\n",
       "      <th>4</th>\n",
       "      <td>2760</td>\n",
       "      <td>2845.661594</td>\n",
       "      <td>2791</td>\n",
       "      <td>4744</td>\n",
       "      <td>698</td>\n",
       "      <td>3</td>\n",
       "    </tr>\n",
       "  </tbody>\n",
       "</table>\n",
       "</div>"
      ],
      "text/plain": [
       "   size         mean  median   max   min  cluster\n",
       "0  2877  3129.834897    3050  5100  1857        0\n",
       "1  2294  2989.003923    2677  5100   698        3\n",
       "2  3776  2947.170286    2808  5100   698        2\n",
       "3  1740  3074.770115    2877  4744  1899        0\n",
       "4  2760  2845.661594    2791  4744   698        3"
      ]
     },
     "execution_count": 41,
     "metadata": {},
     "output_type": "execute_result"
    }
   ],
   "source": [
    "from sklearn.cluster import KMeans\n",
    "from sklearn.preprocessing import StandardScaler\n",
    "\n",
    "sc = StandardScaler()\n",
    "store_clustering_sc = sc.fit_transform(store_clustering)\n",
    "\n",
    "kmeans = KMeans(n_clusters=4, random_state=0)\n",
    "clusters = kmeans.fit(store_clustering_sc)\n",
    "store_clustering['cluster'] = clusters.labels_\n",
    "store_clustering.head()"
   ]
  },
  {
   "cell_type": "code",
   "execution_count": null,
   "metadata": {},
   "outputs": [],
   "source": []
  },
  {
   "cell_type": "code",
   "execution_count": 40,
   "metadata": {},
   "outputs": [
    {
     "data": {
      "text/plain": [
       "array([0, 3, 2, 0, 3, 2, 2, 3, 3, 2, 3, 0, 2, 3, 3, 2, 2, 3, 1, 3, 2, 3,\n",
       "       2, 0, 3, 1, 3, 2, 1, 3, 2, 2, 0, 3, 2, 2, 2, 3, 3, 2, 2, 3, 2, 3,\n",
       "       0, 3, 2, 2, 1, 2, 2, 2, 1, 3, 2, 1, 3, 2, 2, 3, 2, 3, 1, 2, 1, 3,\n",
       "       2, 3, 3, 3, 3, 2, 2, 0, 3, 2, 1, 1, 2, 3, 3, 1, 2, 3, 2, 2, 2, 2,\n",
       "       3, 0, 2, 3, 2, 2, 2, 2, 0, 2, 1, 2, 3, 3, 2, 2, 1, 3, 3, 3, 3, 1,\n",
       "       3, 2, 2, 1, 2, 3, 2, 3, 2, 3, 2, 3, 2, 3, 0, 3, 3, 3, 1, 2, 3, 2,\n",
       "       2, 3, 3, 2, 2, 3, 2, 2, 2, 1, 2, 2, 0, 0, 2, 2, 2, 2, 2, 2, 3, 2,\n",
       "       3, 1, 2, 1, 2, 3, 2, 2, 2, 2, 3, 3, 3, 3, 2, 2, 1, 3, 2, 2, 3, 3,\n",
       "       2, 1, 3, 3, 2, 1, 3, 0, 2, 2, 2, 2, 1, 0, 3, 2, 3, 2, 1, 3],\n",
       "      dtype=int32)"
      ]
     },
     "execution_count": 40,
     "metadata": {},
     "output_type": "execute_result"
    }
   ],
   "source": [
    "clusters.labels_"
   ]
  },
  {
   "cell_type": "markdown",
   "metadata": {},
   "source": [
    "# グループの傾向を分析してみよう"
   ]
  },
  {
   "cell_type": "code",
   "execution_count": 42,
   "metadata": {},
   "outputs": [
    {
     "data": {
      "text/html": [
       "<div>\n",
       "<style scoped>\n",
       "    .dataframe tbody tr th:only-of-type {\n",
       "        vertical-align: middle;\n",
       "    }\n",
       "\n",
       "    .dataframe tbody tr th {\n",
       "        vertical-align: top;\n",
       "    }\n",
       "\n",
       "    .dataframe thead th {\n",
       "        text-align: right;\n",
       "    }\n",
       "</style>\n",
       "<table border=\"1\" class=\"dataframe\">\n",
       "  <thead>\n",
       "    <tr style=\"text-align: right;\">\n",
       "      <th></th>\n",
       "      <th>size</th>\n",
       "      <th>mean</th>\n",
       "      <th>median</th>\n",
       "      <th>max</th>\n",
       "      <th>min</th>\n",
       "    </tr>\n",
       "    <tr>\n",
       "      <th>cluster</th>\n",
       "      <th></th>\n",
       "      <th></th>\n",
       "      <th></th>\n",
       "      <th></th>\n",
       "      <th></th>\n",
       "    </tr>\n",
       "  </thead>\n",
       "  <tbody>\n",
       "    <tr>\n",
       "      <th>0</th>\n",
       "      <td>14</td>\n",
       "      <td>14</td>\n",
       "      <td>14</td>\n",
       "      <td>14</td>\n",
       "      <td>14</td>\n",
       "    </tr>\n",
       "    <tr>\n",
       "      <th>1</th>\n",
       "      <td>24</td>\n",
       "      <td>24</td>\n",
       "      <td>24</td>\n",
       "      <td>24</td>\n",
       "      <td>24</td>\n",
       "    </tr>\n",
       "    <tr>\n",
       "      <th>2</th>\n",
       "      <td>89</td>\n",
       "      <td>89</td>\n",
       "      <td>89</td>\n",
       "      <td>89</td>\n",
       "      <td>89</td>\n",
       "    </tr>\n",
       "    <tr>\n",
       "      <th>3</th>\n",
       "      <td>69</td>\n",
       "      <td>69</td>\n",
       "      <td>69</td>\n",
       "      <td>69</td>\n",
       "      <td>69</td>\n",
       "    </tr>\n",
       "  </tbody>\n",
       "</table>\n",
       "</div>"
      ],
      "text/plain": [
       "         size  mean  median  max  min\n",
       "cluster                              \n",
       "0          14    14      14   14   14\n",
       "1          24    24      24   24   24\n",
       "2          89    89      89   89   89\n",
       "3          69    69      69   69   69"
      ]
     },
     "execution_count": 42,
     "metadata": {},
     "output_type": "execute_result"
    }
   ],
   "source": [
    "store_clustering.columns = ['size', 'mean', 'median', 'max', 'min', 'cluster']\n",
    "store_clustering.groupby('cluster').count()"
   ]
  },
  {
   "cell_type": "code",
   "execution_count": 43,
   "metadata": {},
   "outputs": [
    {
     "data": {
      "text/html": [
       "<div>\n",
       "<style scoped>\n",
       "    .dataframe tbody tr th:only-of-type {\n",
       "        vertical-align: middle;\n",
       "    }\n",
       "\n",
       "    .dataframe tbody tr th {\n",
       "        vertical-align: top;\n",
       "    }\n",
       "\n",
       "    .dataframe thead th {\n",
       "        text-align: right;\n",
       "    }\n",
       "</style>\n",
       "<table border=\"1\" class=\"dataframe\">\n",
       "  <thead>\n",
       "    <tr style=\"text-align: right;\">\n",
       "      <th></th>\n",
       "      <th>size</th>\n",
       "      <th>mean</th>\n",
       "      <th>median</th>\n",
       "      <th>max</th>\n",
       "      <th>min</th>\n",
       "    </tr>\n",
       "    <tr>\n",
       "      <th>cluster</th>\n",
       "      <th></th>\n",
       "      <th></th>\n",
       "      <th></th>\n",
       "      <th></th>\n",
       "      <th></th>\n",
       "    </tr>\n",
       "  </thead>\n",
       "  <tbody>\n",
       "    <tr>\n",
       "      <th>0</th>\n",
       "      <td>2514.642857</td>\n",
       "      <td>3071.595911</td>\n",
       "      <td>2880.428571</td>\n",
       "      <td>4896.571429</td>\n",
       "      <td>1882.071429</td>\n",
       "    </tr>\n",
       "    <tr>\n",
       "      <th>1</th>\n",
       "      <td>2801.583333</td>\n",
       "      <td>3063.532847</td>\n",
       "      <td>3009.375000</td>\n",
       "      <td>5023.666667</td>\n",
       "      <td>758.250000</td>\n",
       "    </tr>\n",
       "    <tr>\n",
       "      <th>2</th>\n",
       "      <td>3274.797753</td>\n",
       "      <td>2967.584258</td>\n",
       "      <td>2796.808989</td>\n",
       "      <td>5080.000000</td>\n",
       "      <td>741.325843</td>\n",
       "    </tr>\n",
       "    <tr>\n",
       "      <th>3</th>\n",
       "      <td>2616.463768</td>\n",
       "      <td>2887.247467</td>\n",
       "      <td>2728.217391</td>\n",
       "      <td>4756.304348</td>\n",
       "      <td>743.405797</td>\n",
       "    </tr>\n",
       "  </tbody>\n",
       "</table>\n",
       "</div>"
      ],
      "text/plain": [
       "                size         mean       median          max          min\n",
       "cluster                                                                 \n",
       "0        2514.642857  3071.595911  2880.428571  4896.571429  1882.071429\n",
       "1        2801.583333  3063.532847  3009.375000  5023.666667   758.250000\n",
       "2        3274.797753  2967.584258  2796.808989  5080.000000   741.325843\n",
       "3        2616.463768  2887.247467  2728.217391  4756.304348   743.405797"
      ]
     },
     "execution_count": 43,
     "metadata": {},
     "output_type": "execute_result"
    }
   ],
   "source": [
    "store_clustering.groupby('cluster').mean()"
   ]
  },
  {
   "cell_type": "markdown",
   "metadata": {},
   "source": [
    "# 20.クラスタリングの結果をt-SNEで可視化しよう"
   ]
  },
  {
   "cell_type": "code",
   "execution_count": 47,
   "metadata": {},
   "outputs": [
    {
     "data": {
      "text/html": [
       "<div>\n",
       "<style scoped>\n",
       "    .dataframe tbody tr th:only-of-type {\n",
       "        vertical-align: middle;\n",
       "    }\n",
       "\n",
       "    .dataframe tbody tr th {\n",
       "        vertical-align: top;\n",
       "    }\n",
       "\n",
       "    .dataframe thead th {\n",
       "        text-align: right;\n",
       "    }\n",
       "</style>\n",
       "<table border=\"1\" class=\"dataframe\">\n",
       "  <thead>\n",
       "    <tr style=\"text-align: right;\">\n",
       "      <th></th>\n",
       "      <th>axis_0</th>\n",
       "      <th>axis_1</th>\n",
       "      <th>cluster</th>\n",
       "    </tr>\n",
       "  </thead>\n",
       "  <tbody>\n",
       "    <tr>\n",
       "      <th>0</th>\n",
       "      <td>-5.116744</td>\n",
       "      <td>3.308903</td>\n",
       "      <td>0</td>\n",
       "    </tr>\n",
       "    <tr>\n",
       "      <th>1</th>\n",
       "      <td>11.047794</td>\n",
       "      <td>0.016504</td>\n",
       "      <td>3</td>\n",
       "    </tr>\n",
       "    <tr>\n",
       "      <th>2</th>\n",
       "      <td>13.164879</td>\n",
       "      <td>9.757247</td>\n",
       "      <td>2</td>\n",
       "    </tr>\n",
       "    <tr>\n",
       "      <th>3</th>\n",
       "      <td>-6.517968</td>\n",
       "      <td>1.094347</td>\n",
       "      <td>0</td>\n",
       "    </tr>\n",
       "    <tr>\n",
       "      <th>4</th>\n",
       "      <td>-10.660534</td>\n",
       "      <td>-10.523395</td>\n",
       "      <td>3</td>\n",
       "    </tr>\n",
       "  </tbody>\n",
       "</table>\n",
       "</div>"
      ],
      "text/plain": [
       "      axis_0     axis_1  cluster\n",
       "0  -5.116744   3.308903        0\n",
       "1  11.047794   0.016504        3\n",
       "2  13.164879   9.757247        2\n",
       "3  -6.517968   1.094347        0\n",
       "4 -10.660534 -10.523395        3"
      ]
     },
     "execution_count": 47,
     "metadata": {},
     "output_type": "execute_result"
    }
   ],
   "source": [
    "from sklearn.manifold import TSNE\n",
    "\n",
    "tsne = TSNE(n_components=2, random_state=0)\n",
    "x = tsne.fit_transform(store_clustering_sc)\n",
    "tsne_df = pd.DataFrame(x)\n",
    "tsne_df['cluster'] = store_clustering['cluster']\n",
    "tsne_df.columns = ['axis_0', 'axis_1', 'cluster']\n",
    "tsne_df.head()"
   ]
  },
  {
   "cell_type": "code",
   "execution_count": 48,
   "metadata": {},
   "outputs": [
    {
     "data": {
      "image/png": "[encoded data removed]",
      "text/plain": [
       "<Figure size 432x288 with 1 Axes>"
      ]
     },
     "metadata": {
      "needs_background": "light"
     },
     "output_type": "display_data"
    }
   ],
   "source": [
    "tsne_graph = sns.scatterplot(data=tsne_df, x='axis_0', y='axis_1', hue='cluster')"
   ]
  },
  {
   "cell_type": "code",
   "execution_count": null,
   "metadata": {},
   "outputs": [],
   "source": []
  }
 ],
 "metadata": {
  "kernelspec": {
   "display_name": "Python 3",
   "language": "python",
   "name": "python3"
  },
  "language_info": {
   "codemirror_mode": {
    "name": "ipython",
    "version": 3
   },
   "file_extension": ".py",
   "mimetype": "text/x-python",
   "name": "python",
   "nbconvert_exporter": "python",
   "pygments_lexer": "ipython3",
   "version": "3.8.5"
  }
 },
 "nbformat": 4,
 "nbformat_minor": 4
}
